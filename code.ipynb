{
  "nbformat": 4,
  "nbformat_minor": 0,
  "metadata": {
    "accelerator": "GPU",
    "colab": {
      "name": "Projet-DL.ipynb",
      "provenance": [],
      "collapsed_sections": [
        "mJWW02GtZkju",
        "l2YDvDBT62zn",
        "boQyatIznfdk",
        "kzJD-xSmnmZ-",
        "G1-ZlMH1-0pY",
        "MgXgJTTdpMcg",
        "zkyRtCIApUpS",
        "4Se0jcnKpYFG",
        "YGFk7eDnpcaw"
      ],
      "include_colab_link": true
    },
    "kernelspec": {
      "display_name": "Python 3",
      "language": "python",
      "name": "python3"
    },
    "language_info": {
      "codemirror_mode": {
        "name": "ipython",
        "version": 3
      },
      "file_extension": ".py",
      "mimetype": "text/x-python",
      "name": "python",
      "nbconvert_exporter": "python",
      "pygments_lexer": "ipython3",
      "version": "3.8.3"
    }
  },
  "cells": [
    {
      "cell_type": "markdown",
      "metadata": {
        "id": "view-in-github",
        "colab_type": "text"
      },
      "source": [
        "<a href=\"https://colab.research.google.com/github/DLProjectTextGeneration/TextGeneration/blob/code/code.ipynb\" target=\"_parent\"><img src=\"https://colab.research.google.com/assets/colab-badge.svg\" alt=\"Open In Colab\"/></a>"
      ]
    },
    {
      "cell_type": "markdown",
      "metadata": {
        "id": "mJWW02GtZkju"
      },
      "source": [
        "# **Load the packages**"
      ]
    },
    {
      "cell_type": "code",
      "metadata": {
        "colab": {
          "base_uri": "https://localhost:8080/"
        },
        "id": "G59k8kEJ5z0R",
        "outputId": "fd6a149e-bb27-451d-b210-023b59120f3b"
      },
      "source": [
        "import os\n",
        "import datetime\n",
        "import pandas as pd\n",
        "import numpy as np\n",
        "\n",
        "import seaborn as sns\n",
        "import matplotlib.pyplot as plt\n",
        "from sklearn.preprocessing import PowerTransformer, MinMaxScaler\n",
        "\n",
        "import nltk\n",
        "from nltk.corpus import stopwords\n",
        "nltk.download('stopwords')\n",
        "\n",
        "from google.colab import files"
      ],
      "execution_count": null,
      "outputs": [
        {
          "output_type": "stream",
          "text": [
            "[nltk_data] Downloading package stopwords to /root/nltk_data...\n",
            "[nltk_data]   Unzipping corpora/stopwords.zip.\n"
          ],
          "name": "stdout"
        }
      ]
    },
    {
      "cell_type": "code",
      "metadata": {
        "id": "lch2Ach95z0U"
      },
      "source": [
        "from keras.models import Sequential\n",
        "from keras.layers import Dense\n",
        "from keras.layers import Dropout\n",
        "from keras.layers import LSTM\n",
        "from keras.layers import RNN\n",
        "from keras.utils import np_utils\n",
        "from keras.callbacks import ModelCheckpoint"
      ],
      "execution_count": null,
      "outputs": []
    },
    {
      "cell_type": "markdown",
      "metadata": {
        "id": "l2YDvDBT62zn"
      },
      "source": [
        "# **Data import**\n",
        "\n",
        "We load the song lyrics of Britney Spear's songs. The file is a text file that you can download from the **data** folder on our github : \n",
        "\n",
        "1.   Click on this link : https://github.com/DLProjectTextGeneration/TextGeneration/blob/main/Data/britney-spears.txt\n",
        "2.   Right-click on the *raw* button on the top right corner of the page and select *download the linked file*\n",
        "\n",
        "Now that you have dowloaded the data, you can import it with the following chunk.\n",
        "\n",
        "If you don't want to train the models you will also need to import the files in the **weights** folder (https://github.com/DLProjectTextGeneration/TextGeneration/tree/main/Weights).\n"
      ]
    },
    {
      "cell_type": "code",
      "metadata": {
        "colab": {
          "resources": {
            "http://localhost:8080/nbextensions/google.colab/files.js": {
              "data": "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",
              "ok": true,
              "headers": [
                [
                  "content-type",
                  "application/javascript"
                ]
              ],
              "status": 200,
              "status_text": ""
            }
          },
          "base_uri": "https://localhost:8080/",
          "height": 160
        },
        "id": "bWP_LyUHwlfF",
        "outputId": "f28dd1c7-220e-4828-e8b1-15db7549b974"
      },
      "source": [
        "uploaded = files.upload()"
      ],
      "execution_count": null,
      "outputs": [
        {
          "output_type": "display_data",
          "data": {
            "text/html": [
              "\n",
              "     <input type=\"file\" id=\"files-b6f435de-9118-4cd8-a3ef-886caaf19fe0\" name=\"files[]\" multiple disabled\n",
              "        style=\"border:none\" />\n",
              "     <output id=\"result-b6f435de-9118-4cd8-a3ef-886caaf19fe0\">\n",
              "      Upload widget is only available when the cell has been executed in the\n",
              "      current browser session. Please rerun this cell to enable.\n",
              "      </output>\n",
              "      <script src=\"/nbextensions/google.colab/files.js\"></script> "
            ],
            "text/plain": [
              "<IPython.core.display.HTML object>"
            ]
          },
          "metadata": {
            "tags": []
          }
        },
        {
          "output_type": "stream",
          "text": [
            "Saving britney-spears.txt to britney-spears (2).txt\n",
            "Saving baseline-improvement-britney-36-0.4864_50_128.hdf5 to baseline-improvement-britney-36-0.4864_50_128 (1).hdf5\n",
            "Saving baseline-improvement-britney-clean-40-0.3835_50_128.hdf5 to baseline-improvement-britney-clean-40-0.3835_50_128 (1).hdf5\n"
          ],
          "name": "stdout"
        }
      ]
    },
    {
      "cell_type": "code",
      "metadata": {
        "id": "DgCmzxn-eBbZ"
      },
      "source": [
        "data = open('britney-spears.txt','r')\n",
        "britney = data.read()\n",
        "data.close()"
      ],
      "execution_count": null,
      "outputs": []
    },
    {
      "cell_type": "markdown",
      "metadata": {
        "id": "InWDKp3beHxN"
      },
      "source": [
        "We can take a look at the data."
      ]
    },
    {
      "cell_type": "code",
      "metadata": {
        "colab": {
          "base_uri": "https://localhost:8080/"
        },
        "id": "KvHDFKdveGzw",
        "outputId": "584d5538-96e6-4b86-8aeb-1304f3d8efc2"
      },
      "source": [
        "print(britney[0:1003])"
      ],
      "execution_count": null,
      "outputs": [
        {
          "output_type": "stream",
          "text": [
            "They say get ready for the revolution\n",
            "I think it's time we find some sorta solution\n",
            "Somebody's caught up in the endless pollution\n",
            "They need to wake up, stop living illusions I know you need to hear this\n",
            "Why won't somebody feel this\n",
            "This is my wish that we all feel connected\n",
            "This is my wish that nobodies neglected Be like a rocket baby\n",
            "Be like a rocket Take off\n",
            "Just fly, away (ay, ay)\n",
            "To find your space Take off\n",
            "Just fly, away (ay, ay)\n",
            "To find your place Take off You know what they say about mixing the races\n",
            "And in the end we got the same faces\n",
            "My mama told me got love yourself first\n",
            "And if you disagree, get off this damn earth I want to feel connected\n",
            "Don't want to be neglected\n",
            "This is my wish that we all find our places\n",
            "This is my wish that we all escalate (yeah) Be like a rocket baby\n",
            "Be like a rocket Take off\n",
            "Just fly, away (ay, ay)\n",
            "To find your space Take off\n",
            "Just fly, away (ay, ay)\n",
            "To find your space Take off\n",
            "Just fly, away (ay, ay)\n",
            "To find your space Take off\n",
            "Just fly, away (ay, ay)\n",
            "\n"
          ],
          "name": "stdout"
        }
      ]
    },
    {
      "cell_type": "markdown",
      "metadata": {
        "id": "mwwKpLqrn2lW"
      },
      "source": [
        "# **1. Generating text from the raw data**\n",
        "\n"
      ]
    },
    {
      "cell_type": "markdown",
      "metadata": {
        "id": "boQyatIznfdk"
      },
      "source": [
        "## **Data processing**"
      ]
    },
    {
      "cell_type": "markdown",
      "metadata": {
        "id": "Ap2NsSdOenKr"
      },
      "source": [
        "We now associate to each character an integer. For example :\n",
        "\n",
        "* ' \\n ' --> 0\n",
        "* ' ' --> 1\n",
        "* ' ! ' --> 2\n",
        "\n",
        "We have 76 unique different characters. Hence, our text is now a sequence of integer from 0 to 75.\n",
        "\n",
        "\n",
        "\n",
        "\n"
      ]
    },
    {
      "cell_type": "code",
      "metadata": {
        "colab": {
          "base_uri": "https://localhost:8080/"
        },
        "id": "d7Wdux8welMh",
        "outputId": "b6a14db8-544b-4215-f6a7-6120a72baa2e"
      },
      "source": [
        "characters = sorted(list(set(britney)))\n",
        "\n",
        "n_to_char = {n:char for n, char in enumerate(characters)}\n",
        "char_to_n = {char:n for n, char in enumerate(characters)}\n",
        "\n",
        "vocab_size = len(characters)\n",
        "print('Number of unique characters: ', vocab_size)\n",
        "print(characters)"
      ],
      "execution_count": null,
      "outputs": [
        {
          "output_type": "stream",
          "text": [
            "Number of unique characters:  76\n",
            "['\\n', ' ', '!', '\"', '&', \"'\", '(', ')', ',', '-', '.', '0', '1', '2', '3', '4', '6', '7', '8', ':', ';', '?', 'A', 'B', 'C', 'D', 'E', 'F', 'G', 'H', 'I', 'J', 'K', 'L', 'M', 'N', 'O', 'P', 'Q', 'R', 'S', 'T', 'U', 'V', 'W', 'Y', 'Z', '[', ']', '`', 'a', 'b', 'c', 'd', 'e', 'f', 'g', 'h', 'i', 'j', 'k', 'l', 'm', 'n', 'o', 'p', 'q', 'r', 's', 't', 'u', 'v', 'w', 'x', 'y', 'z']\n"
          ],
          "name": "stdout"
        }
      ]
    },
    {
      "cell_type": "markdown",
      "metadata": {
        "id": "degoFykUh1j0"
      },
      "source": [
        "We then extract all the possible sequences of 100 characters from our text and we store them into a vector **X**. For each sequence, the follow up character (the target) is stored into another vector **Y**."
      ]
    },
    {
      "cell_type": "code",
      "metadata": {
        "colab": {
          "base_uri": "https://localhost:8080/"
        },
        "id": "yeJs75OkhGpo",
        "outputId": "6a242041-3f74-4399-a04c-d9404718eb22"
      },
      "source": [
        "X = []   \n",
        "Y = []  \n",
        "length = len(britney)\n",
        "seq_length = 100   \n",
        "\n",
        "for i in range(0, length - seq_length, 1):\n",
        "    sequence = britney[i:i + seq_length]\n",
        "    label = britney[i + seq_length]\n",
        "    X.append([char_to_n[char] for char in sequence])\n",
        "    Y.append(char_to_n[label])\n",
        "    \n",
        "print('Number of extracted sequences:', len(X))"
      ],
      "execution_count": null,
      "outputs": [
        {
          "output_type": "stream",
          "text": [
            "Number of extracted sequences: 135187\n"
          ],
          "name": "stdout"
        }
      ]
    },
    {
      "cell_type": "code",
      "metadata": {
        "colab": {
          "base_uri": "https://localhost:8080/"
        },
        "id": "BIjY1T_Eiriw",
        "outputId": "2db00a4f-b1e6-41d5-8b0f-e68a69576f07"
      },
      "source": [
        "X_modified = np.reshape(X, (len(X), seq_length, 1))\n",
        "X_modified = X_modified / float(len(characters))\n",
        "Y_modified = np_utils.to_categorical(Y)\n",
        "\n",
        "X_modified.shape, Y_modified.shape"
      ],
      "execution_count": null,
      "outputs": [
        {
          "output_type": "execute_result",
          "data": {
            "text/plain": [
              "((135187, 100, 1), (135187, 76))"
            ]
          },
          "metadata": {
            "tags": []
          },
          "execution_count": 10
        }
      ]
    },
    {
      "cell_type": "markdown",
      "metadata": {
        "id": "kzJD-xSmnmZ-"
      },
      "source": [
        "## **Model creation and training**"
      ]
    },
    {
      "cell_type": "markdown",
      "metadata": {
        "id": "CUEV5M16kdst"
      },
      "source": [
        "We create our model and then we will train our model. "
      ]
    },
    {
      "cell_type": "code",
      "metadata": {
        "id": "53DdZ4bqi3aM"
      },
      "source": [
        "model = Sequential()\n",
        "model.add(LSTM(400, input_shape=(X_modified.shape[1], X_modified.shape[2]), return_sequences=True))\n",
        "model.add(Dropout(0.2))\n",
        "model.add(LSTM(400))\n",
        "model.add(Dropout(0.2))\n",
        "model.add(Dense(Y_modified.shape[1], activation='softmax'))\n",
        "\n",
        "model.compile(loss='categorical_crossentropy', optimizer='adam')"
      ],
      "execution_count": null,
      "outputs": []
    },
    {
      "cell_type": "markdown",
      "metadata": {
        "id": "cCG5IDFdnUrU"
      },
      "source": [
        "If you already have downloaded the file (https://github.com/DLProjectTextGeneration/TextGeneration/blob/main/Weights/baseline-improvement-britney-36-0.4864_50_128.hdf5) in the **weights** folder, you don't need to run the following code and go directly to the next section (Generating text)."
      ]
    },
    {
      "cell_type": "markdown",
      "metadata": {
        "id": "DitGp4Nwk4od"
      },
      "source": [
        "We added checkpoints to save the model weights and load it again if we want to add epochs afterwards."
      ]
    },
    {
      "cell_type": "code",
      "metadata": {
        "id": "ZBAusarxk33o"
      },
      "source": [
        "filepath=\"/content/training_checkpoints/baseline-improvement-britney-{epoch:02d}-{loss:.4f}.hdf5\"\n",
        "checkpoint = ModelCheckpoint(filepath, monitor='loss', verbose=1, save_best_only=True, mode='min')\n",
        "callbacks_list = [checkpoint]"
      ],
      "execution_count": null,
      "outputs": []
    },
    {
      "cell_type": "code",
      "metadata": {
        "colab": {
          "base_uri": "https://localhost:8080/"
        },
        "id": "NQYz0PQylxyL",
        "outputId": "62504b0b-1230-4d53-f541-d178190ff703"
      },
      "source": [
        "model.fit(X_modified, Y_modified, epochs=50, batch_size=128, callbacks = callbacks_list)"
      ],
      "execution_count": null,
      "outputs": [
        {
          "output_type": "stream",
          "text": [
            "Epoch 1/50\n",
            "1057/1057 [==============================] - 74s 68ms/step - loss: 3.1102\n",
            "\n",
            "Epoch 00001: loss improved from inf to 2.96636, saving model to /content/training_checkpoints/baseline-improvement-britney-01-2.9664.hdf5\n",
            "Epoch 2/50\n",
            "1057/1057 [==============================] - 71s 67ms/step - loss: 2.7605\n",
            "\n",
            "Epoch 00002: loss improved from 2.96636 to 2.71115, saving model to /content/training_checkpoints/baseline-improvement-britney-02-2.7112.hdf5\n",
            "Epoch 3/50\n",
            "1057/1057 [==============================] - 71s 67ms/step - loss: 2.5356\n",
            "\n",
            "Epoch 00003: loss improved from 2.71115 to 2.48208, saving model to /content/training_checkpoints/baseline-improvement-britney-03-2.4821.hdf5\n",
            "Epoch 4/50\n",
            "1057/1057 [==============================] - 71s 67ms/step - loss: 2.2882\n",
            "\n",
            "Epoch 00004: loss improved from 2.48208 to 2.23253, saving model to /content/training_checkpoints/baseline-improvement-britney-04-2.2325.hdf5\n",
            "Epoch 5/50\n",
            "1057/1057 [==============================] - 71s 67ms/step - loss: 2.0415\n",
            "\n",
            "Epoch 00005: loss improved from 2.23253 to 2.00018, saving model to /content/training_checkpoints/baseline-improvement-britney-05-2.0002.hdf5\n",
            "Epoch 6/50\n",
            "1057/1057 [==============================] - 71s 67ms/step - loss: 1.8226\n",
            "\n",
            "Epoch 00006: loss improved from 2.00018 to 1.79671, saving model to /content/training_checkpoints/baseline-improvement-britney-06-1.7967.hdf5\n",
            "Epoch 7/50\n",
            "1057/1057 [==============================] - 71s 67ms/step - loss: 1.6362\n",
            "\n",
            "Epoch 00007: loss improved from 1.79671 to 1.61903, saving model to /content/training_checkpoints/baseline-improvement-britney-07-1.6190.hdf5\n",
            "Epoch 8/50\n",
            "1057/1057 [==============================] - 71s 67ms/step - loss: 1.4721\n",
            "\n",
            "Epoch 00008: loss improved from 1.61903 to 1.47153, saving model to /content/training_checkpoints/baseline-improvement-britney-08-1.4715.hdf5\n",
            "Epoch 9/50\n",
            "1057/1057 [==============================] - 71s 67ms/step - loss: 1.3508\n",
            "\n",
            "Epoch 00009: loss improved from 1.47153 to 1.34697, saving model to /content/training_checkpoints/baseline-improvement-britney-09-1.3470.hdf5\n",
            "Epoch 10/50\n",
            "1057/1057 [==============================] - 71s 67ms/step - loss: 1.2487\n",
            "\n",
            "Epoch 00010: loss improved from 1.34697 to 1.24587, saving model to /content/training_checkpoints/baseline-improvement-britney-10-1.2459.hdf5\n",
            "Epoch 11/50\n",
            "1057/1057 [==============================] - 71s 67ms/step - loss: 1.1451\n",
            "\n",
            "Epoch 00011: loss improved from 1.24587 to 1.15092, saving model to /content/training_checkpoints/baseline-improvement-britney-11-1.1509.hdf5\n",
            "Epoch 12/50\n",
            "1057/1057 [==============================] - 71s 67ms/step - loss: 1.0718\n",
            "\n",
            "Epoch 00012: loss improved from 1.15092 to 1.07883, saving model to /content/training_checkpoints/baseline-improvement-britney-12-1.0788.hdf5\n",
            "Epoch 13/50\n",
            "1057/1057 [==============================] - 71s 67ms/step - loss: 1.0014\n",
            "\n",
            "Epoch 00013: loss improved from 1.07883 to 1.00550, saving model to /content/training_checkpoints/baseline-improvement-britney-13-1.0055.hdf5\n",
            "Epoch 14/50\n",
            "1057/1057 [==============================] - 71s 67ms/step - loss: 0.9416\n",
            "\n",
            "Epoch 00014: loss improved from 1.00550 to 0.95134, saving model to /content/training_checkpoints/baseline-improvement-britney-14-0.9513.hdf5\n",
            "Epoch 15/50\n",
            "1057/1057 [==============================] - 71s 67ms/step - loss: 0.8813\n",
            "\n",
            "Epoch 00015: loss improved from 0.95134 to 0.89666, saving model to /content/training_checkpoints/baseline-improvement-britney-15-0.8967.hdf5\n",
            "Epoch 16/50\n",
            "1057/1057 [==============================] - 71s 67ms/step - loss: 0.8390\n",
            "\n",
            "Epoch 00016: loss improved from 0.89666 to 0.85167, saving model to /content/training_checkpoints/baseline-improvement-britney-16-0.8517.hdf5\n",
            "Epoch 17/50\n",
            "1057/1057 [==============================] - 71s 68ms/step - loss: 0.8085\n",
            "\n",
            "Epoch 00017: loss improved from 0.85167 to 0.81575, saving model to /content/training_checkpoints/baseline-improvement-britney-17-0.8157.hdf5\n",
            "Epoch 18/50\n",
            "1057/1057 [==============================] - 71s 68ms/step - loss: 0.7612\n",
            "\n",
            "Epoch 00018: loss improved from 0.81575 to 0.77951, saving model to /content/training_checkpoints/baseline-improvement-britney-18-0.7795.hdf5\n",
            "Epoch 19/50\n",
            "1057/1057 [==============================] - 71s 68ms/step - loss: 0.7400\n",
            "\n",
            "Epoch 00019: loss improved from 0.77951 to 0.75599, saving model to /content/training_checkpoints/baseline-improvement-britney-19-0.7560.hdf5\n",
            "Epoch 20/50\n",
            "1057/1057 [==============================] - 71s 68ms/step - loss: 0.7054\n",
            "\n",
            "Epoch 00020: loss improved from 0.75599 to 0.72408, saving model to /content/training_checkpoints/baseline-improvement-britney-20-0.7241.hdf5\n",
            "Epoch 21/50\n",
            "1057/1057 [==============================] - 71s 67ms/step - loss: 0.6734\n",
            "\n",
            "Epoch 00021: loss improved from 0.72408 to 0.68940, saving model to /content/training_checkpoints/baseline-improvement-britney-21-0.6894.hdf5\n",
            "Epoch 22/50\n",
            "1057/1057 [==============================] - 71s 67ms/step - loss: 0.6657\n",
            "\n",
            "Epoch 00022: loss improved from 0.68940 to 0.67642, saving model to /content/training_checkpoints/baseline-improvement-britney-22-0.6764.hdf5\n",
            "Epoch 23/50\n",
            "1057/1057 [==============================] - 71s 67ms/step - loss: 0.6270\n",
            "\n",
            "Epoch 00023: loss improved from 0.67642 to 0.64794, saving model to /content/training_checkpoints/baseline-improvement-britney-23-0.6479.hdf5\n",
            "Epoch 24/50\n",
            "1057/1057 [==============================] - 71s 67ms/step - loss: 0.6199\n",
            "\n",
            "Epoch 00024: loss improved from 0.64794 to 0.63394, saving model to /content/training_checkpoints/baseline-improvement-britney-24-0.6339.hdf5\n",
            "Epoch 25/50\n",
            "1057/1057 [==============================] - 71s 67ms/step - loss: 0.5991\n",
            "\n",
            "Epoch 00025: loss improved from 0.63394 to 0.61227, saving model to /content/training_checkpoints/baseline-improvement-britney-25-0.6123.hdf5\n",
            "Epoch 26/50\n",
            "1057/1057 [==============================] - 71s 67ms/step - loss: 0.5825\n",
            "\n",
            "Epoch 00026: loss did not improve from 0.61227\n",
            "Epoch 27/50\n",
            "1057/1057 [==============================] - 71s 67ms/step - loss: 0.5685\n",
            "\n",
            "Epoch 00027: loss improved from 0.61227 to 0.60737, saving model to /content/training_checkpoints/baseline-improvement-britney-27-0.6074.hdf5\n",
            "Epoch 28/50\n",
            "1057/1057 [==============================] - 71s 67ms/step - loss: 0.5896\n",
            "\n",
            "Epoch 00028: loss improved from 0.60737 to 0.59045, saving model to /content/training_checkpoints/baseline-improvement-britney-28-0.5905.hdf5\n",
            "Epoch 29/50\n",
            "1057/1057 [==============================] - 71s 67ms/step - loss: 0.5505\n",
            "\n",
            "Epoch 00029: loss improved from 0.59045 to 0.57999, saving model to /content/training_checkpoints/baseline-improvement-britney-29-0.5800.hdf5\n",
            "Epoch 30/50\n",
            "1057/1057 [==============================] - 71s 67ms/step - loss: 0.5418\n",
            "\n",
            "Epoch 00030: loss improved from 0.57999 to 0.55569, saving model to /content/training_checkpoints/baseline-improvement-britney-30-0.5557.hdf5\n",
            "Epoch 31/50\n",
            "1057/1057 [==============================] - 71s 67ms/step - loss: 0.5192\n",
            "\n",
            "Epoch 00031: loss improved from 0.55569 to 0.53735, saving model to /content/training_checkpoints/baseline-improvement-britney-31-0.5374.hdf5\n",
            "Epoch 32/50\n",
            "1057/1057 [==============================] - 71s 67ms/step - loss: 0.5018\n",
            "\n",
            "Epoch 00032: loss improved from 0.53735 to 0.53058, saving model to /content/training_checkpoints/baseline-improvement-britney-32-0.5306.hdf5\n",
            "Epoch 33/50\n",
            "1057/1057 [==============================] - 71s 67ms/step - loss: 0.5128\n",
            "\n",
            "Epoch 00033: loss did not improve from 0.53058\n",
            "Epoch 34/50\n",
            "1057/1057 [==============================] - 71s 67ms/step - loss: 0.5024\n",
            "\n",
            "Epoch 00034: loss improved from 0.53058 to 0.51158, saving model to /content/training_checkpoints/baseline-improvement-britney-34-0.5116.hdf5\n",
            "Epoch 35/50\n",
            "1057/1057 [==============================] - 71s 67ms/step - loss: 0.4991\n",
            "\n",
            "Epoch 00035: loss did not improve from 0.51158\n",
            "Epoch 36/50\n",
            "1057/1057 [==============================] - 71s 67ms/step - loss: 0.4775\n",
            "\n",
            "Epoch 00036: loss improved from 0.51158 to 0.49599, saving model to /content/training_checkpoints/baseline-improvement-britney-36-0.4960.hdf5\n",
            "Epoch 37/50\n",
            "1057/1057 [==============================] - 71s 67ms/step - loss: 0.4775\n",
            "\n",
            "Epoch 00037: loss did not improve from 0.49599\n",
            "Epoch 38/50\n",
            "1057/1057 [==============================] - 71s 67ms/step - loss: 0.4722\n",
            "\n",
            "Epoch 00038: loss improved from 0.49599 to 0.48478, saving model to /content/training_checkpoints/baseline-improvement-britney-38-0.4848.hdf5\n",
            "Epoch 39/50\n",
            "1057/1057 [==============================] - 71s 67ms/step - loss: 0.4675\n",
            "\n",
            "Epoch 00039: loss did not improve from 0.48478\n",
            "Epoch 40/50\n",
            "1057/1057 [==============================] - 71s 67ms/step - loss: 0.4590\n",
            "\n",
            "Epoch 00040: loss improved from 0.48478 to 0.47302, saving model to /content/training_checkpoints/baseline-improvement-britney-40-0.4730.hdf5\n",
            "Epoch 41/50\n",
            "1057/1057 [==============================] - 71s 67ms/step - loss: 0.4456\n",
            "\n",
            "Epoch 00041: loss improved from 0.47302 to 0.46906, saving model to /content/training_checkpoints/baseline-improvement-britney-41-0.4691.hdf5\n",
            "Epoch 42/50\n",
            "1057/1057 [==============================] - 71s 67ms/step - loss: 1.1995\n",
            "\n",
            "Epoch 00042: loss did not improve from 0.46906\n",
            "Epoch 43/50\n",
            "1057/1057 [==============================] - 71s 67ms/step - loss: 1.3555\n",
            "\n",
            "Epoch 00043: loss did not improve from 0.46906\n",
            "Epoch 44/50\n",
            "1057/1057 [==============================] - 71s 67ms/step - loss: 0.7392\n",
            "\n",
            "Epoch 00044: loss did not improve from 0.46906\n",
            "Epoch 45/50\n",
            "1057/1057 [==============================] - 71s 67ms/step - loss: 0.6459\n",
            "\n",
            "Epoch 00045: loss did not improve from 0.46906\n",
            "Epoch 46/50\n",
            "1057/1057 [==============================] - 71s 67ms/step - loss: 0.5086\n",
            "\n",
            "Epoch 00046: loss did not improve from 0.46906\n",
            "Epoch 47/50\n",
            "1057/1057 [==============================] - 71s 67ms/step - loss: 0.4705\n",
            "\n",
            "Epoch 00047: loss did not improve from 0.46906\n",
            "Epoch 48/50\n",
            "1057/1057 [==============================] - 71s 67ms/step - loss: 0.4727\n",
            "\n",
            "Epoch 00048: loss did not improve from 0.46906\n",
            "Epoch 49/50\n",
            "1057/1057 [==============================] - 71s 67ms/step - loss: 0.4965\n",
            "\n",
            "Epoch 00049: loss did not improve from 0.46906\n",
            "Epoch 50/50\n",
            "1057/1057 [==============================] - 71s 67ms/step - loss: 0.4626\n",
            "\n",
            "Epoch 00050: loss did not improve from 0.46906\n"
          ],
          "name": "stdout"
        },
        {
          "output_type": "execute_result",
          "data": {
            "text/plain": [
              "<tensorflow.python.keras.callbacks.History at 0x7fba41268358>"
            ]
          },
          "metadata": {
            "tags": []
          },
          "execution_count": 50
        }
      ]
    },
    {
      "cell_type": "markdown",
      "metadata": {
        "id": "G1-ZlMH1-0pY"
      },
      "source": [
        "## **Generating text**"
      ]
    },
    {
      "cell_type": "markdown",
      "metadata": {
        "id": "C77dCG68otV4"
      },
      "source": [
        "Run this chunk to load the model we trained that you can download here : https://github.com/DLProjectTextGeneration/TextGeneration/blob/main/Weights/baseline-improvement-britney-36-0.4864_50_128.hdf5 "
      ]
    },
    {
      "cell_type": "code",
      "metadata": {
        "id": "KGqT0dtEmUCl"
      },
      "source": [
        "filename = \"/content/baseline-improvement-britney-36-0.4864_50_128.hdf5\"\n",
        "model.load_weights(filename)\n",
        "model.compile(loss='categorical_crossentropy', optimizer='adam')"
      ],
      "execution_count": null,
      "outputs": []
    },
    {
      "cell_type": "markdown",
      "metadata": {
        "id": "QqCmPJFvo4ll"
      },
      "source": [
        "We generate a random start from our initial text."
      ]
    },
    {
      "cell_type": "code",
      "metadata": {
        "colab": {
          "base_uri": "https://localhost:8080/"
        },
        "id": "0Olv_W_f6PVJ",
        "outputId": "1d9d6321-ceef-42c3-b7bf-d433c5216076"
      },
      "source": [
        "start = np.random.randint(0, len(X)-1) \n",
        "\n",
        "string_mapped = list(X[start])\n",
        "\n",
        "full_string = [n_to_char[value] for value in string_mapped]\n",
        "\n",
        "print(\"Seed:\")\n",
        "print(\"\\\"\", ''.join(full_string), \"\\\"\")"
      ],
      "execution_count": null,
      "outputs": [
        {
          "output_type": "stream",
          "text": [
            "Seed:\n",
            "\" them candles hanging\n",
            "Hanging from the ceiling low\n",
            "We use our bodies to make our own videos\n",
            "Put on ou \"\n"
          ],
          "name": "stdout"
        }
      ]
    },
    {
      "cell_type": "markdown",
      "metadata": {
        "id": "tYlMkeHxpDEv"
      },
      "source": [
        "We generate the 400 following characters.\n"
      ]
    },
    {
      "cell_type": "code",
      "metadata": {
        "id": "CqDJhDlxpCiK"
      },
      "source": [
        "for i in range(400):\n",
        "    x = np.reshape(string_mapped,(1,len(string_mapped), 1))\n",
        "    x = x / float(len(characters))\n",
        "\n",
        "    pred_index = np.argmax(model.predict(x, verbose=0))\n",
        "    seq = [n_to_char[value] for value in string_mapped]\n",
        "    full_string.append(n_to_char[pred_index])\n",
        "    \n",
        "    string_mapped.append(pred_index)  \n",
        "    string_mapped = string_mapped[1:len(string_mapped)] "
      ],
      "execution_count": null,
      "outputs": []
    },
    {
      "cell_type": "markdown",
      "metadata": {
        "id": "MLQ4DrOBpQMF"
      },
      "source": [
        "We combine and print the text."
      ]
    },
    {
      "cell_type": "code",
      "metadata": {
        "colab": {
          "base_uri": "https://localhost:8080/"
        },
        "id": "JvicIoODpM9E",
        "outputId": "d757a5fd-0d5c-4bea-e04b-21c93a5a4110"
      },
      "source": [
        "txt=\"\"\n",
        "for char in full_string:\n",
        "    txt = txt+char\n",
        "\n",
        "print(start)\n",
        "print(txt)"
      ],
      "execution_count": null,
      "outputs": [
        {
          "output_type": "stream",
          "text": [
            "96211\n",
            "them candles hanging\n",
            "Hanging from the ceiling low\n",
            "We use our bodies to make our own videos\n",
            "Put on our music that makes us go fucking crazy, oh\n",
            "Go crazy, oh\n",
            "Like a slumber party\n",
            "Like a slumber party Like a slumber party Lo, n-no, no, you and I, I, I\n",
            "We ain't gonna sleep tonight 'Cause we got them candles hanging\n",
            "Hanging from the ceiling low\n",
            "We use our bod'eves downa tpas it to\n",
            "What would it have forerer Baby, I'm so into you\n",
            "You're toxitg that she's sorp lys bry you, I wenla see what I'leel  lite\n"
          ],
          "name": "stdout"
        }
      ]
    },
    {
      "cell_type": "markdown",
      "metadata": {
        "id": "LUZ6HGy1p5wr"
      },
      "source": [
        "First, we can notice that the prediction has the same structure as the raw text. We can see that some words make sens (crazy, baby, party, ...) and others don't (forerer, toxitg, lys, ...). Above all, some sentences actually make sens : \"We ain't gonna sleep tonight\". Finaly, we remark some repetitions but in our case it is rather normal because we trained our model with song lyrics and it contains repetitions. \n",
        "\n",
        "We are happy with our model but we think that we can create better by removing the punctuation for example. But first we will choose a fixed start in order to compare the two models."
      ]
    },
    {
      "cell_type": "code",
      "metadata": {
        "id": "qWF-14o1-u7d",
        "colab": {
          "base_uri": "https://localhost:8080/"
        },
        "outputId": "2af57a9a-b0ce-458e-853e-95d06462712c"
      },
      "source": [
        "start = 40560\n",
        "\n",
        "string_mapped = list(X[start])\n",
        "\n",
        "full_string = [n_to_char[value] for value in string_mapped]\n",
        "\n",
        "print(\"Seed:\")\n",
        "print(\"\\\"\", ''.join(full_string), \"\\\"\")"
      ],
      "execution_count": null,
      "outputs": [
        {
          "output_type": "stream",
          "text": [
            "Seed:\n",
            "\" And scream and shout and let it out\n",
            "We saying oh wee oh wee oh wee oh\n",
            "We saying oh wee oh wee oh wee \"\n"
          ],
          "name": "stdout"
        }
      ]
    },
    {
      "cell_type": "code",
      "metadata": {
        "id": "ROhuNsOq-6Fg",
        "colab": {
          "base_uri": "https://localhost:8080/"
        },
        "outputId": "acab4f58-1f0b-4e71-b1b2-9db9aecbf90b"
      },
      "source": [
        "for i in range(400):\n",
        "    x = np.reshape(string_mapped,(1,len(string_mapped), 1))\n",
        "    x = x / float(len(characters))\n",
        "\n",
        "    pred_index = np.argmax(model.predict(x, verbose=0))\n",
        "    seq = [n_to_char[value] for value in string_mapped]\n",
        "    full_string.append(n_to_char[pred_index])\n",
        "    \n",
        "    string_mapped.append(pred_index)  \n",
        "    string_mapped = string_mapped[1:len(string_mapped)] \n",
        "\n",
        "txt=\"\"\n",
        "for char in full_string:\n",
        "    txt = txt+char\n",
        "\n",
        "print(start)\n",
        "print(txt)"
      ],
      "execution_count": null,
      "outputs": [
        {
          "output_type": "stream",
          "text": [
            "40560\n",
            "And scream and shout and let it out\n",
            "We saying oh wee oh wee oh wee oh\n",
            "We saying oh wee oh wee oh wee oh\n",
            "I wanna scream and shout and let it all out\n",
            "And scream and shout and let it all out\n",
            "And scream and shou and let it all out\n",
            "And scream and shou and let it all out\n",
            "And scream and shout and let it out\n",
            "We saying oh wee oh wee oh wee oh\n",
            "Wou are now now rocking with Will I Am and Britney bitch Oh yeah..\n",
            "Oh yeah..\n",
            "Oh yeah..\n",
            "Bni: We will, we will rock you! Britney:\n",
            "We! I said: All:\n",
            "We will, we will ro\n"
          ],
          "name": "stdout"
        }
      ]
    },
    {
      "cell_type": "markdown",
      "metadata": {
        "id": "DBHnqRbZoweT"
      },
      "source": [
        "# **2. Generating text from clean data**"
      ]
    },
    {
      "cell_type": "markdown",
      "metadata": {
        "id": "MgXgJTTdpMcg"
      },
      "source": [
        "## **Data cleaning**"
      ]
    },
    {
      "cell_type": "markdown",
      "metadata": {
        "id": "K-DWQTEHseB_"
      },
      "source": [
        "As we explained earlier we trained another model with cleaned data : \n",
        "\n",
        "\n",
        "\n",
        "1.   Convert to lower case \n",
        "2.   Remove the punctuation\n",
        "\n"
      ]
    },
    {
      "cell_type": "code",
      "metadata": {
        "id": "L5PoQnR3o9YY"
      },
      "source": [
        "def convert_text_to_lowercase(df):\n",
        "    df = df.lower()\n",
        "    return df\n",
        "    \n",
        "def not_regex(pattern):\n",
        "        return r\"((?!{}).)\".format(pattern)\n",
        "\n",
        "def remove_punctuation(df):\n",
        "    df = df.replace('\\n', ' ')\n",
        "    df = df.replace('\\r', ' ')\n",
        "    alphanumeric_characters_extended = '(\\\\b[-/]\\\\b|[a-zA-Z0-9])'\n",
        "    df = df.replace(not_regex(alphanumeric_characters_extended), ' ')\n",
        "    return df\n",
        "\n",
        "\n",
        "def text_cleaning(df):\n",
        "    \"\"\"\n",
        "    Takes in a string of text, then performs the following:\n",
        "    1. convert text to lowercase\n",
        "    2. remove punctuation and new line characters '\\n'\n",
        "    3. Tokenize sentences\n",
        "    4. Remove all stopwords\n",
        "    5. convert tokenized text to text\n",
        "    \"\"\"\n",
        "    df = df.lower()\n",
        "    df = remove_punctuation(df)\n",
        "    return df\n",
        "\n"
      ],
      "execution_count": null,
      "outputs": []
    },
    {
      "cell_type": "code",
      "metadata": {
        "colab": {
          "base_uri": "https://localhost:8080/"
        },
        "id": "lRw8K6e5pCTZ",
        "outputId": "448215dd-7e5a-4e06-c2b3-f3467acc0a08"
      },
      "source": [
        "britney = text_cleaning(britney)\n",
        "\n",
        "print(britney[0:1003])"
      ],
      "execution_count": null,
      "outputs": [
        {
          "output_type": "stream",
          "text": [
            "they say get ready for the revolution i think it's time we find some sorta solution somebody's caught up in the endless pollution they need to wake up, stop living illusions i know you need to hear this why won't somebody feel this this is my wish that we all feel connected this is my wish that nobodies neglected be like a rocket baby be like a rocket take off just fly, away (ay, ay) to find your space take off just fly, away (ay, ay) to find your place take off you know what they say about mixing the races and in the end we got the same faces my mama told me got love yourself first and if you disagree, get off this damn earth i want to feel connected don't want to be neglected this is my wish that we all find our places this is my wish that we all escalate (yeah) be like a rocket baby be like a rocket take off just fly, away (ay, ay) to find your space take off just fly, away (ay, ay) to find your space take off just fly, away (ay, ay) to find your space take off just fly, away (ay, ay) \n"
          ],
          "name": "stdout"
        }
      ]
    },
    {
      "cell_type": "markdown",
      "metadata": {
        "id": "zkyRtCIApUpS"
      },
      "source": [
        "## **Data processing**"
      ]
    },
    {
      "cell_type": "markdown",
      "metadata": {
        "id": "thCtxt1cCc21"
      },
      "source": [
        "We now only have 50 different characters"
      ]
    },
    {
      "cell_type": "code",
      "metadata": {
        "colab": {
          "base_uri": "https://localhost:8080/"
        },
        "id": "SdSCaeB-p91P",
        "outputId": "287561bf-d514-4991-af1e-d57b86088a43"
      },
      "source": [
        "characters = sorted(list(set(britney)))\n",
        "\n",
        "n_to_char = {n:char for n, char in enumerate(characters)}\n",
        "char_to_n = {char:n for n, char in enumerate(characters)}\n",
        "\n",
        "vocab_size = len(characters)\n",
        "print('Number of unique characters: ', vocab_size)\n",
        "print(characters)"
      ],
      "execution_count": null,
      "outputs": [
        {
          "output_type": "stream",
          "text": [
            "Number of unique characters:  50\n",
            "[' ', '!', '\"', '&', \"'\", '(', ')', ',', '-', '.', '0', '1', '2', '3', '4', '6', '7', '8', ':', ';', '?', '[', ']', '`', 'a', 'b', 'c', 'd', 'e', 'f', 'g', 'h', 'i', 'j', 'k', 'l', 'm', 'n', 'o', 'p', 'q', 'r', 's', 't', 'u', 'v', 'w', 'x', 'y', 'z']\n"
          ],
          "name": "stdout"
        }
      ]
    },
    {
      "cell_type": "code",
      "metadata": {
        "colab": {
          "base_uri": "https://localhost:8080/"
        },
        "id": "nheym9fhqA5m",
        "outputId": "6a310b13-ae3f-40c0-87c4-1fe06bee46d3"
      },
      "source": [
        "X = []   \n",
        "Y = []  \n",
        "length = len(britney)\n",
        "seq_length = 100   \n",
        "\n",
        "for i in range(0, length - seq_length, 1):\n",
        "    sequence = britney[i:i + seq_length]\n",
        "    label = britney[i + seq_length]\n",
        "    X.append([char_to_n[char] for char in sequence])\n",
        "    Y.append(char_to_n[label])\n",
        "    \n",
        "print('Number of extracted sequences:', len(X))"
      ],
      "execution_count": null,
      "outputs": [
        {
          "output_type": "stream",
          "text": [
            "Number of extracted sequences: 135187\n"
          ],
          "name": "stdout"
        }
      ]
    },
    {
      "cell_type": "code",
      "metadata": {
        "colab": {
          "base_uri": "https://localhost:8080/"
        },
        "id": "90Np_A_iqECH",
        "outputId": "367db9c3-c47f-412d-8506-80620b5cd1a4"
      },
      "source": [
        "X_modified = np.reshape(X, (len(X), seq_length, 1))\n",
        "X_modified = X_modified / float(len(characters))\n",
        "Y_modified = np_utils.to_categorical(Y)\n",
        "\n",
        "X_modified.shape, Y_modified.shape"
      ],
      "execution_count": null,
      "outputs": [
        {
          "output_type": "execute_result",
          "data": {
            "text/plain": [
              "((135187, 100, 1), (135187, 50))"
            ]
          },
          "metadata": {
            "tags": []
          },
          "execution_count": 16
        }
      ]
    },
    {
      "cell_type": "markdown",
      "metadata": {
        "id": "4Se0jcnKpYFG"
      },
      "source": [
        "## **Model creation and training**"
      ]
    },
    {
      "cell_type": "code",
      "metadata": {
        "id": "wO8M2U4nqHGR"
      },
      "source": [
        "model = Sequential()\n",
        "model.add(LSTM(400, input_shape=(X_modified.shape[1], X_modified.shape[2]), return_sequences=True))\n",
        "model.add(Dropout(0.2))\n",
        "model.add(LSTM(400))\n",
        "model.add(Dropout(0.2))\n",
        "model.add(Dense(Y_modified.shape[1], activation='softmax'))\n",
        "\n",
        "model.compile(loss='categorical_crossentropy', optimizer='adam')"
      ],
      "execution_count": null,
      "outputs": []
    },
    {
      "cell_type": "markdown",
      "metadata": {
        "id": "j7q-kjZLs9Z8"
      },
      "source": [
        "Same a above, now that you have created the model you don't need to train it again. You can go directly to the following section and load the file (https://github.com/DLProjectTextGeneration/TextGeneration/blob/main/Weights/baseline-improvement-britney-clean-40-0.3835_50_128.hdf5)."
      ]
    },
    {
      "cell_type": "code",
      "metadata": {
        "id": "qtUpzSGdqLnf"
      },
      "source": [
        "filepath=\"/content/training_checkpoints/baseline-improvement-britney-clean-{epoch:02d}-{loss:.4f}.hdf5\"\n",
        "checkpoint = ModelCheckpoint(filepath, monitor='loss', verbose=1, save_best_only=True, mode='min')\n",
        "callbacks_list = [checkpoint]"
      ],
      "execution_count": null,
      "outputs": []
    },
    {
      "cell_type": "code",
      "metadata": {
        "colab": {
          "base_uri": "https://localhost:8080/"
        },
        "id": "t7zShMG5qRrX",
        "outputId": "b280f746-3a57-4050-d557-6f418cba222d"
      },
      "source": [
        "model.fit(X_modified, Y_modified, epochs=50, batch_size=128, callbacks = callbacks_list)"
      ],
      "execution_count": null,
      "outputs": [
        {
          "output_type": "stream",
          "text": [
            "Epoch 1/50\n",
            "1057/1057 [==============================] - 74s 68ms/step - loss: 2.8817\n",
            "\n",
            "Epoch 00001: loss improved from inf to 2.74098, saving model to /content/training_checkpoints/baseline-improvement-britney-clean-01-2.7410.hdf5\n",
            "Epoch 2/50\n",
            "1057/1057 [==============================] - 71s 67ms/step - loss: 2.4613\n",
            "\n",
            "Epoch 00002: loss improved from 2.74098 to 2.37931, saving model to /content/training_checkpoints/baseline-improvement-britney-clean-02-2.3793.hdf5\n",
            "Epoch 3/50\n",
            "1057/1057 [==============================] - 71s 67ms/step - loss: 2.1218\n",
            "\n",
            "Epoch 00003: loss improved from 2.37931 to 2.05692, saving model to /content/training_checkpoints/baseline-improvement-britney-clean-03-2.0569.hdf5\n",
            "Epoch 4/50\n",
            "1057/1057 [==============================] - 71s 67ms/step - loss: 1.8372\n",
            "\n",
            "Epoch 00004: loss improved from 2.05692 to 1.79641, saving model to /content/training_checkpoints/baseline-improvement-britney-clean-04-1.7964.hdf5\n",
            "Epoch 5/50\n",
            "1057/1057 [==============================] - 71s 67ms/step - loss: 1.6218\n",
            "\n",
            "Epoch 00005: loss improved from 1.79641 to 1.59107, saving model to /content/training_checkpoints/baseline-improvement-britney-clean-05-1.5911.hdf5\n",
            "Epoch 6/50\n",
            "1057/1057 [==============================] - 71s 67ms/step - loss: 1.4296\n",
            "\n",
            "Epoch 00006: loss improved from 1.59107 to 1.41977, saving model to /content/training_checkpoints/baseline-improvement-britney-clean-06-1.4198.hdf5\n",
            "Epoch 7/50\n",
            "1057/1057 [==============================] - 71s 67ms/step - loss: 1.2851\n",
            "\n",
            "Epoch 00007: loss improved from 1.41977 to 1.27384, saving model to /content/training_checkpoints/baseline-improvement-britney-clean-07-1.2738.hdf5\n",
            "Epoch 8/50\n",
            "1057/1057 [==============================] - 71s 67ms/step - loss: 1.1541\n",
            "\n",
            "Epoch 00008: loss improved from 1.27384 to 1.15497, saving model to /content/training_checkpoints/baseline-improvement-britney-clean-08-1.1550.hdf5\n",
            "Epoch 9/50\n",
            "1057/1057 [==============================] - 71s 67ms/step - loss: 1.0446\n",
            "\n",
            "Epoch 00009: loss improved from 1.15497 to 1.05384, saving model to /content/training_checkpoints/baseline-improvement-britney-clean-09-1.0538.hdf5\n",
            "Epoch 10/50\n",
            "1057/1057 [==============================] - 71s 67ms/step - loss: 0.9676\n",
            "\n",
            "Epoch 00010: loss improved from 1.05384 to 0.97023, saving model to /content/training_checkpoints/baseline-improvement-britney-clean-10-0.9702.hdf5\n",
            "Epoch 11/50\n",
            "1057/1057 [==============================] - 71s 67ms/step - loss: 0.8868\n",
            "\n",
            "Epoch 00011: loss improved from 0.97023 to 0.89702, saving model to /content/training_checkpoints/baseline-improvement-britney-clean-11-0.8970.hdf5\n",
            "Epoch 12/50\n",
            "1057/1057 [==============================] - 71s 67ms/step - loss: 0.8285\n",
            "\n",
            "Epoch 00012: loss improved from 0.89702 to 0.83856, saving model to /content/training_checkpoints/baseline-improvement-britney-clean-12-0.8386.hdf5\n",
            "Epoch 13/50\n",
            "1057/1057 [==============================] - 71s 67ms/step - loss: 0.7773\n",
            "\n",
            "Epoch 00013: loss improved from 0.83856 to 0.78551, saving model to /content/training_checkpoints/baseline-improvement-britney-clean-13-0.7855.hdf5\n",
            "Epoch 14/50\n",
            "1057/1057 [==============================] - 71s 67ms/step - loss: 0.7267\n",
            "\n",
            "Epoch 00014: loss improved from 0.78551 to 0.74081, saving model to /content/training_checkpoints/baseline-improvement-britney-clean-14-0.7408.hdf5\n",
            "Epoch 15/50\n",
            "1057/1057 [==============================] - 71s 67ms/step - loss: 0.6804\n",
            "\n",
            "Epoch 00015: loss improved from 0.74081 to 0.69670, saving model to /content/training_checkpoints/baseline-improvement-britney-clean-15-0.6967.hdf5\n",
            "Epoch 16/50\n",
            "1057/1057 [==============================] - 71s 67ms/step - loss: 0.6481\n",
            "\n",
            "Epoch 00016: loss improved from 0.69670 to 0.66396, saving model to /content/training_checkpoints/baseline-improvement-britney-clean-16-0.6640.hdf5\n",
            "Epoch 17/50\n",
            "1057/1057 [==============================] - 71s 67ms/step - loss: 0.6228\n",
            "\n",
            "Epoch 00017: loss improved from 0.66396 to 0.63614, saving model to /content/training_checkpoints/baseline-improvement-britney-clean-17-0.6361.hdf5\n",
            "Epoch 18/50\n",
            "1057/1057 [==============================] - 71s 67ms/step - loss: 0.5848\n",
            "\n",
            "Epoch 00018: loss improved from 0.63614 to 0.60212, saving model to /content/training_checkpoints/baseline-improvement-britney-clean-18-0.6021.hdf5\n",
            "Epoch 19/50\n",
            "1057/1057 [==============================] - 71s 67ms/step - loss: 0.5586\n",
            "\n",
            "Epoch 00019: loss improved from 0.60212 to 0.57882, saving model to /content/training_checkpoints/baseline-improvement-britney-clean-19-0.5788.hdf5\n",
            "Epoch 20/50\n",
            "1057/1057 [==============================] - 71s 67ms/step - loss: 0.5361\n",
            "\n",
            "Epoch 00020: loss improved from 0.57882 to 0.55760, saving model to /content/training_checkpoints/baseline-improvement-britney-clean-20-0.5576.hdf5\n",
            "Epoch 21/50\n",
            "1057/1057 [==============================] - 71s 67ms/step - loss: 0.5208\n",
            "\n",
            "Epoch 00021: loss improved from 0.55760 to 0.53980, saving model to /content/training_checkpoints/baseline-improvement-britney-clean-21-0.5398.hdf5\n",
            "Epoch 22/50\n",
            "1057/1057 [==============================] - 71s 67ms/step - loss: 0.4972\n",
            "\n",
            "Epoch 00022: loss improved from 0.53980 to 0.52259, saving model to /content/training_checkpoints/baseline-improvement-britney-clean-22-0.5226.hdf5\n",
            "Epoch 23/50\n",
            "1057/1057 [==============================] - 71s 67ms/step - loss: 0.4933\n",
            "\n",
            "Epoch 00023: loss improved from 0.52259 to 0.50687, saving model to /content/training_checkpoints/baseline-improvement-britney-clean-23-0.5069.hdf5\n",
            "Epoch 24/50\n",
            "1057/1057 [==============================] - 71s 67ms/step - loss: 0.5446\n",
            "\n",
            "Epoch 00024: loss did not improve from 0.50687\n",
            "Epoch 25/50\n",
            "1057/1057 [==============================] - 71s 67ms/step - loss: 0.4624\n",
            "\n",
            "Epoch 00025: loss improved from 0.50687 to 0.47045, saving model to /content/training_checkpoints/baseline-improvement-britney-clean-25-0.4704.hdf5\n",
            "Epoch 26/50\n",
            "1057/1057 [==============================] - 71s 67ms/step - loss: 0.4389\n",
            "\n",
            "Epoch 00026: loss improved from 0.47045 to 0.45912, saving model to /content/training_checkpoints/baseline-improvement-britney-clean-26-0.4591.hdf5\n",
            "Epoch 27/50\n",
            "1057/1057 [==============================] - 71s 67ms/step - loss: 0.4385\n",
            "\n",
            "Epoch 00027: loss improved from 0.45912 to 0.45790, saving model to /content/training_checkpoints/baseline-improvement-britney-clean-27-0.4579.hdf5\n",
            "Epoch 28/50\n",
            "1057/1057 [==============================] - 71s 67ms/step - loss: 0.6737\n",
            "\n",
            "Epoch 00028: loss did not improve from 0.45790\n",
            "Epoch 29/50\n",
            "1057/1057 [==============================] - 71s 67ms/step - loss: 2.7357\n",
            "\n",
            "Epoch 00029: loss did not improve from 0.45790\n",
            "Epoch 30/50\n",
            "1057/1057 [==============================] - 71s 67ms/step - loss: 2.4755\n",
            "\n",
            "Epoch 00030: loss did not improve from 0.45790\n",
            "Epoch 31/50\n",
            "1057/1057 [==============================] - 71s 67ms/step - loss: 2.2897\n",
            "\n",
            "Epoch 00031: loss did not improve from 0.45790\n",
            "Epoch 32/50\n",
            "1057/1057 [==============================] - 71s 67ms/step - loss: 2.1152\n",
            "\n",
            "Epoch 00032: loss did not improve from 0.45790\n",
            "Epoch 33/50\n",
            "1057/1057 [==============================] - 71s 67ms/step - loss: 1.9416\n",
            "\n",
            "Epoch 00033: loss did not improve from 0.45790\n",
            "Epoch 34/50\n",
            "1057/1057 [==============================] - 71s 67ms/step - loss: 1.7889\n",
            "\n",
            "Epoch 00034: loss did not improve from 0.45790\n",
            "Epoch 35/50\n",
            "1057/1057 [==============================] - 71s 67ms/step - loss: 1.6298\n",
            "\n",
            "Epoch 00035: loss did not improve from 0.45790\n",
            "Epoch 36/50\n",
            "1057/1057 [==============================] - 71s 67ms/step - loss: 1.5000\n",
            "\n",
            "Epoch 00036: loss did not improve from 0.45790\n",
            "Epoch 37/50\n",
            "1057/1057 [==============================] - 71s 67ms/step - loss: 1.3785\n",
            "\n",
            "Epoch 00037: loss did not improve from 0.45790\n",
            "Epoch 38/50\n",
            "1057/1057 [==============================] - 71s 67ms/step - loss: 1.2767\n",
            "\n",
            "Epoch 00038: loss did not improve from 0.45790\n",
            "Epoch 39/50\n",
            "1057/1057 [==============================] - 71s 67ms/step - loss: 1.1923\n",
            "\n",
            "Epoch 00039: loss did not improve from 0.45790\n",
            "Epoch 40/50\n",
            "1057/1057 [==============================] - 71s 67ms/step - loss: 1.1173\n",
            "\n",
            "Epoch 00040: loss did not improve from 0.45790\n",
            "Epoch 41/50\n",
            "1057/1057 [==============================] - 71s 67ms/step - loss: 1.0555\n",
            "\n",
            "Epoch 00041: loss did not improve from 0.45790\n",
            "Epoch 42/50\n",
            "1057/1057 [==============================] - 71s 67ms/step - loss: 0.9972\n",
            "\n",
            "Epoch 00042: loss did not improve from 0.45790\n",
            "Epoch 43/50\n",
            "1057/1057 [==============================] - 71s 68ms/step - loss: 1.1585\n",
            "\n",
            "Epoch 00043: loss did not improve from 0.45790\n",
            "Epoch 44/50\n",
            "1057/1057 [==============================] - 71s 67ms/step - loss: 0.8980\n",
            "\n",
            "Epoch 00044: loss did not improve from 0.45790\n",
            "Epoch 45/50\n",
            "1057/1057 [==============================] - 71s 67ms/step - loss: 0.8628\n",
            "\n",
            "Epoch 00045: loss did not improve from 0.45790\n",
            "Epoch 46/50\n",
            "1057/1057 [==============================] - 71s 67ms/step - loss: 0.8497\n",
            "\n",
            "Epoch 00046: loss did not improve from 0.45790\n",
            "Epoch 47/50\n",
            "1057/1057 [==============================] - 71s 67ms/step - loss: 0.8268\n",
            "\n",
            "Epoch 00047: loss did not improve from 0.45790\n",
            "Epoch 48/50\n",
            "1057/1057 [==============================] - 71s 67ms/step - loss: 0.8069\n",
            "\n",
            "Epoch 00048: loss did not improve from 0.45790\n",
            "Epoch 49/50\n",
            "1057/1057 [==============================] - 71s 67ms/step - loss: 0.7840\n",
            "\n",
            "Epoch 00049: loss did not improve from 0.45790\n",
            "Epoch 50/50\n",
            "1057/1057 [==============================] - 71s 67ms/step - loss: 0.7863\n",
            "\n",
            "Epoch 00050: loss did not improve from 0.45790\n"
          ],
          "name": "stdout"
        },
        {
          "output_type": "execute_result",
          "data": {
            "text/plain": [
              "<tensorflow.python.keras.callbacks.History at 0x7fb9d6d65d30>"
            ]
          },
          "metadata": {
            "tags": []
          },
          "execution_count": 105
        }
      ]
    },
    {
      "cell_type": "markdown",
      "metadata": {
        "id": "YGFk7eDnpcaw"
      },
      "source": [
        "## **Generating text**"
      ]
    },
    {
      "cell_type": "code",
      "metadata": {
        "id": "33BJIi91olI2"
      },
      "source": [
        "filename = \"/content/baseline-improvement-britney-clean-40-0.3835_50_128.hdf5\" # link to find the file : https://github.com/DLProjectTextGeneration/TextGeneration/blob/main/Weights/baseline-improvement-britney-clean-40-0.3835_50_128.hdf5\n",
        "model.load_weights(filename)\n",
        "model.compile(loss='categorical_crossentropy', optimizer='adam')"
      ],
      "execution_count": null,
      "outputs": []
    },
    {
      "cell_type": "code",
      "metadata": {
        "colab": {
          "base_uri": "https://localhost:8080/"
        },
        "id": "PdbifBlvqXfU",
        "outputId": "83c9b44d-09c2-4fce-9e56-186f7aaf3f8d"
      },
      "source": [
        "start = 40560\n",
        "\n",
        "string_mapped = list(X[start])\n",
        "\n",
        "full_string = [n_to_char[value] for value in string_mapped]\n",
        "\n",
        "print(\"Seed:\")\n",
        "print(\"\\\"\", ''.join(full_string), \"\\\"\")"
      ],
      "execution_count": null,
      "outputs": [
        {
          "output_type": "stream",
          "text": [
            "Seed:\n",
            "\" and scream and shout and let it out we saying oh wee oh wee oh wee oh we saying oh wee oh wee oh wee \"\n"
          ],
          "name": "stdout"
        }
      ]
    },
    {
      "cell_type": "code",
      "metadata": {
        "id": "dIO2aJumqagG"
      },
      "source": [
        "for i in range(400):\n",
        "    x = np.reshape(string_mapped,(1,len(string_mapped), 1))\n",
        "    x = x / float(len(characters))\n",
        "\n",
        "    pred_index = np.argmax(model.predict(x, verbose=0))\n",
        "    seq = [n_to_char[value] for value in string_mapped]\n",
        "    full_string.append(n_to_char[pred_index])\n",
        "    \n",
        "    string_mapped.append(pred_index)  \n",
        "    string_mapped = string_mapped[1:len(string_mapped)] "
      ],
      "execution_count": null,
      "outputs": []
    },
    {
      "cell_type": "code",
      "metadata": {
        "colab": {
          "base_uri": "https://localhost:8080/"
        },
        "id": "Eew7dqksqd57",
        "outputId": "93c957ff-8ed4-4992-9784-fc39f2eadde2"
      },
      "source": [
        "txt=\"\"\n",
        "for char in full_string:\n",
        "    txt = txt+char\n",
        "\n",
        "print(start)\n",
        "print(txt)"
      ],
      "execution_count": null,
      "outputs": [
        {
          "output_type": "stream",
          "text": [
            "40560\n",
            "and scream and shout and let it out we saying oh wee oh wee oh wee oh we saying oh wee oh wee oh wee oh i wanna scream and shout and let it all out and scream and shout and let it out we saying oh wee oh wee oh wee oh you are now now rocking with will i am and britney bitch all around the world, pretty girls jump the liness  thay seel pe prcsio' and you niw me on my radar (on my radar) on my radar got you on my radar got you on my radar got you on my radar got you on my radar got you on my radar\n"
          ],
          "name": "stdout"
        }
      ]
    },
    {
      "cell_type": "markdown",
      "metadata": {
        "id": "EkzZJbdFvf9k"
      },
      "source": [
        "For the second model, we were able to reach a lower loss : 0.3835 instead of 0.4864. Indeed, the second model is more accurate than the first one. However, in the second one we lose the struture of a song lyric."
      ]
    },
    {
      "cell_type": "markdown",
      "metadata": {
        "id": "CkYrvNW-thrM"
      },
      "source": [
        "![Screenshot 2021-01-05 at 14.29.12.png](data:image/png;base64,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)\n"
      ]
    },
    {
      "cell_type": "markdown",
      "metadata": {
        "id": "UymscSp0LxaD"
      },
      "source": [
        "## **Generating text: trying on a test song**\n"
      ]
    },
    {
      "cell_type": "markdown",
      "metadata": {
        "id": "vV80yex1L-ee"
      },
      "source": [
        "We've tried to generate song lyrics based on Britney spears. For now, we have only tried generating on the train set. As seen in the report, the lyrics generated are quite close to the original lyrics. Now, we try to generate a Will I Am and Adelle song in the style of Britney Spears. If the generated model makes sense, then it could be a sign that our model is pretty good. If it does not make sense, it could be a sign that our model is overfitting.\n",
        "\n",
        "In the following cells, we redo all the cleaning and preprocessing steps for the chorus of the song. Then we predict the next part of the song using the already-trained Britney Spear model."
      ]
    },
    {
      "cell_type": "code",
      "metadata": {
        "id": "OEPCEjUoMsaB",
        "colab": {
          "base_uri": "https://localhost:8080/"
        },
        "outputId": "f654ce10-6a7b-4d06-a6fc-966511dcfc18"
      },
      "source": [
        "start2 = \"Take me to New York, I'd love to see LA I really want to come kick it with you You'll be my American\"\n",
        "start2 = text_cleaning(start2)\n",
        "print(start2)\n",
        "len(start2)\n",
        "string_mapped = list(start2)\n",
        "start2_nbr= [char_to_n[value] for value in string_mapped]\n",
        "\n",
        "print(start2_nbr)"
      ],
      "execution_count": null,
      "outputs": [
        {
          "output_type": "stream",
          "text": [
            "take me to new york, i'd love to see la i really want to come kick it with you you'll be my american\n",
            "[43, 24, 34, 28, 0, 36, 28, 0, 43, 38, 0, 37, 28, 46, 0, 48, 38, 41, 34, 7, 0, 32, 4, 27, 0, 35, 38, 45, 28, 0, 43, 38, 0, 42, 28, 28, 0, 35, 24, 0, 32, 0, 41, 28, 24, 35, 35, 48, 0, 46, 24, 37, 43, 0, 43, 38, 0, 26, 38, 36, 28, 0, 34, 32, 26, 34, 0, 32, 43, 0, 46, 32, 43, 31, 0, 48, 38, 44, 0, 48, 38, 44, 4, 35, 35, 0, 25, 28, 0, 36, 48, 0, 24, 36, 28, 41, 32, 26, 24, 37]\n"
          ],
          "name": "stdout"
        }
      ]
    },
    {
      "cell_type": "code",
      "metadata": {
        "id": "aIAZbm2SSx45"
      },
      "source": [
        "for i in range(400):\n",
        "    x = np.reshape(start2_nbr,(1,len(start2_nbr), 1))\n",
        "    x = x / float(len(characters))\n",
        "\n",
        "    pred_index = np.argmax(model.predict(x, verbose=0))\n",
        "    seq = [n_to_char[value] for value in start2_nbr]\n",
        "    string_mapped.append(n_to_char[pred_index])\n",
        "    \n",
        "    start2_nbr.append(pred_index)  \n",
        "    start2_nbr = start2_nbr[1:len(start2_nbr)] "
      ],
      "execution_count": null,
      "outputs": []
    },
    {
      "cell_type": "code",
      "metadata": {
        "colab": {
          "base_uri": "https://localhost:8080/"
        },
        "id": "rRAOCLaLYfrP",
        "outputId": "9c8b05eb-515e-40c2-fddb-b049c68b2bf2"
      },
      "source": [
        "txt=\"\"\n",
        "for char in string_mapped:\n",
        "    txt = txt+char\n",
        "\n",
        "print(start2)\n",
        "print(txt)"
      ],
      "execution_count": null,
      "outputs": [
        {
          "output_type": "stream",
          "text": [
            "take me to new york, i'd love to see la i really want to come kick it with you you'll be my american\n",
            "take me to new york, i'd love to see la i really want to come kick it with you you'll be my americanedre you rain a mic bod in the sace oh my brdy ne you want mo more danc, cans, iat you tien amy (love me, hate me) ohhhh, say what you want about me ohhhh, but can't you see what i see? all of the boys and all of the girls are begging to if you seek amy (love me, hate me) ohhhh, say what you want about me ohhhh, but can't you see what i see? all of the boys and all of the girls are begging to if y\n"
          ],
          "name": "stdout"
        }
      ]
    },
    {
      "cell_type": "markdown",
      "metadata": {
        "id": "3H-u5npUZ-Dc"
      },
      "source": [
        "Let's try on another song that may be more suited to Britney Spear's style: Beyonce's \"Single Ladies\".\n",
        "\n"
      ]
    },
    {
      "cell_type": "code",
      "metadata": {
        "colab": {
          "base_uri": "https://localhost:8080/"
        },
        "id": "sO10MMUFZ8IO",
        "outputId": "494f2883-dd67-4b80-e56c-2eafdf74321e"
      },
      "source": [
        "start2 = \"Don't be mad once you see that he want it If you liked it then you shoulda put a ring on it I got gl\"\n",
        "start2 = text_cleaning(start2)\n",
        "print(start2)\n",
        "print(len(start2))\n",
        "string_mapped = list(start2)\n",
        "start2_nbr= [char_to_n[value] for value in string_mapped]\n",
        "\n",
        "print(start2_nbr)"
      ],
      "execution_count": null,
      "outputs": [
        {
          "output_type": "stream",
          "text": [
            "don't be mad once you see that he want it if you liked it then you shoulda put a ring on it i got gl\n",
            "100\n",
            "[27, 38, 37, 4, 43, 0, 25, 28, 0, 36, 24, 27, 0, 38, 37, 26, 28, 0, 48, 38, 44, 0, 42, 28, 28, 0, 43, 31, 24, 43, 0, 31, 28, 0, 46, 24, 37, 43, 0, 32, 43, 0, 32, 29, 0, 48, 38, 44, 0, 35, 32, 34, 28, 27, 0, 32, 43, 0, 43, 31, 28, 37, 0, 48, 38, 44, 0, 42, 31, 38, 44, 35, 27, 24, 0, 39, 44, 43, 0, 24, 0, 41, 32, 37, 30, 0, 38, 37, 0, 32, 43, 0, 32, 0, 30, 38, 43, 0, 30, 35]\n"
          ],
          "name": "stdout"
        }
      ]
    },
    {
      "cell_type": "code",
      "metadata": {
        "id": "b3sYwfzPZ8Ie"
      },
      "source": [
        "for i in range(400):\n",
        "    x = np.reshape(start2_nbr,(1,len(start2_nbr), 1))\n",
        "    x = x / float(len(characters))\n",
        "\n",
        "    pred_index = np.argmax(model.predict(x, verbose=0))\n",
        "    seq = [n_to_char[value] for value in start2_nbr]\n",
        "    string_mapped.append(n_to_char[pred_index])\n",
        "  \n",
        "    start2_nbr.append(pred_index)  \n",
        "    start2_nbr = start2_nbr[1:len(start2_nbr)] "
      ],
      "execution_count": null,
      "outputs": []
    },
    {
      "cell_type": "code",
      "metadata": {
        "colab": {
          "base_uri": "https://localhost:8080/"
        },
        "id": "Cm1XTsBWZ8If",
        "outputId": "3e861fea-f2f3-4003-b8de-2215d22a5f3d"
      },
      "source": [
        "txt=\"\"\n",
        "for char in string_mapped:\n",
        "    txt = txt+char\n",
        "\n",
        "print(start2)\n",
        "print(txt)"
      ],
      "execution_count": null,
      "outputs": [
        {
          "output_type": "stream",
          "text": [
            "don't be mad once you see that he want it if you liked it then you shoulda put a ring on it i got gl\n",
            "don't be mad once you see that he want it if you liked it then you shoulda put a ring on it i got gl i don't nied nobody eren sp uo they goona de she one iat lak you fetty so love you got me hypnotized i move rhe guy mana i must confess, that my loneliness is killing me now don't you know i know that you know i know that you're a liar, a liar you can crawl, crawl, crawl you can beg and you can bleed baby talk, talk, talk keep on lying through your teeth you know i know that you know i know that \n"
          ],
          "name": "stdout"
        }
      ]
    },
    {
      "cell_type": "markdown",
      "metadata": {
        "id": "hbr1vAHtmB5E"
      },
      "source": [
        "Results of this experiment can be found in the README file in the Github report."
      ]
    }
  ]
}